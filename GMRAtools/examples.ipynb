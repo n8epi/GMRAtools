{
 "cells": [
  {
   "cell_type": "markdown",
   "metadata": {},
   "source": [
    "# Geometric Multi-Resolution Analysis (GMRA)\n",
    "\n",
    "GMRA approximates point clouds in high-dimensional datasets. It involves two components:\n",
    "\n",
    "1. A partitioning function which partitions a high-dimensional space into local cells based on a dataset\n",
    "$$\\mathbb{R}^D\\supset \\{x_i\\}_{i=1}^N\\longrightarrow \\{Q_j\\}_{j=1}^k$$\n",
    "2. A local modeling function which takes data from local cells and provides local encoder/decoders for representation/reconstruction of new datapoints\n",
    "$$\\{x_i\\}_{i=1}^N \\cup Q_j \\longrightarrow (\\mathcal{E}_j,\\:\\mathcal{D}_j)$$\n",
    "\n",
    "GMRA may be thought of as an extension of dimension reduction techniques. Just as Principal Component Analysis (PCA) is used to reduce dimension to make classification and regression practical, GMRA provides a low-complexity representation that can be exploited improve computational and statistical efficiency. \n",
    "\n",
    "Our visualization use Mathbox2. We begin with code developed by znah@github to place python arrays into jupyter's javascript global scope."
   ]
  },
  {
   "cell_type": "code",
   "execution_count": 1,
   "metadata": {
    "collapsed": true
   },
   "outputs": [],
   "source": [
    "import json\n",
    "import numpy as np\n",
    "import numpy.random as rd\n",
    "from IPython.display import HTML, Javascript, display\n",
    "\n",
    "def json_numpy_serializer(o):\n",
    "    if isinstance(o, np.ndarray):\n",
    "        return o.tolist()\n",
    "    raise TypeError(\"{} of type {} is not JSON serializable\".format(repr(o), type(o)))\n",
    "\n",
    "def jsglobal(**params):\n",
    "    code = [];\n",
    "    for name, value in params.items():\n",
    "        jsdata = json.dumps(value, default=json_numpy_serializer)\n",
    "        code.append(\"window.{}={};\".format(name, jsdata))\n",
    "    display(Javascript(\"\\n\".join(code)))"
   ]
  },
  {
   "cell_type": "markdown",
   "metadata": {},
   "source": [
    "## GMRA experiments\n",
    "\n",
    "For each experiment, we draw $10^4$ points from the unit sphere and construct a GMRA at a particular scale. We consider three succesively finer scales to depict the approximation errors. \n",
    "\n",
    "Our partitioning function is based on the cover tree algorithm, and our local models are PCA approximations.\n",
    "\n",
    "For each experiment, we compose the encode and decode functions of the GMRA to each data apoint to determine the GMRA approximation to the sphere at each scale. These point clouds are then passed to the javascript global scope for visualization."
   ]
  },
  {
   "cell_type": "code",
   "execution_count": 2,
   "metadata": {},
   "outputs": [
    {
     "data": {
      "image/png": "[encoded data removed]",
      "text/plain": [
       "<matplotlib.figure.Figure at 0x107525ac8>"
      ]
     },
     "metadata": {},
     "output_type": "display_data"
    },
    {
     "data": {
      "image/png": "[encoded data removed]",
      "text/plain": [
       "<matplotlib.figure.Figure at 0x107525b00>"
      ]
     },
     "metadata": {},
     "output_type": "display_data"
    },
    {
     "data": {
      "image/png": "[encoded data removed]",
      "text/plain": [
       "<matplotlib.figure.Figure at 0x107525e10>"
      ]
     },
     "metadata": {},
     "output_type": "display_data"
    },
    {
     "data": {
      "text/plain": [
       "<IPython.core.display.Javascript object>"
      ]
     },
     "metadata": {},
     "output_type": "display_data"
    },
    {
     "data": {
      "text/plain": [
       "<IPython.core.display.Javascript object>"
      ]
     },
     "metadata": {},
     "output_type": "display_data"
    },
    {
     "data": {
      "text/plain": [
       "<IPython.core.display.Javascript object>"
      ]
     },
     "metadata": {},
     "output_type": "display_data"
    }
   ],
   "source": [
    "from partition import uniform_covertree_partition\n",
    "from local import pca_coder\n",
    "from local_info import local_pca_info\n",
    "from gmra import GMRA\n",
    "\n",
    "def gmra_sphere_experiment(num_pts, scale):\n",
    "    data = np.reshape(rd.randn(3*num_pts), (num_pts, 3))\n",
    "    data = np.apply_along_axis(lambda v: v / np.sqrt(np.sum(v**2)), 1, data)\n",
    "    \n",
    "    sphere_gmra = GMRA(data, lambda d, m: uniform_covertree_partition(d, m, scale=scale), pca_coder, info_fcn=local_pca_info) \n",
    "    sphere_gmra.info()\n",
    "\n",
    "    x = []\n",
    "    y = []\n",
    "    z = []\n",
    "\n",
    "    for i in range(num_pts):\n",
    "        idx, code = sphere_gmra.encode(data[i,:])\n",
    "        v = sphere_gmra.decode(idx, code)\n",
    "        x.append(v[0])\n",
    "        y.append(v[1])\n",
    "        z.append(v[2])\n",
    "\n",
    "    pos = np.vstack([x, y, z]).T\n",
    "    return pos\n",
    "    \n",
    "pos0 = gmra_sphere_experiment(10000, 0)\n",
    "pos1 = gmra_sphere_experiment(10000, -1)\n",
    "pos2 = gmra_sphere_experiment(10000, -2)\n",
    "        \n",
    "jsglobal(POS0=pos0)\n",
    "jsglobal(POS1=pos1)\n",
    "jsglobal(POS2=pos2)"
   ]
  },
  {
   "cell_type": "markdown",
   "metadata": {},
   "source": [
    "## Visualizations\n",
    "\n",
    "We now call Mathbox2 for each GMRA approximation point cloud to visualize our results."
   ]
  },
  {
   "cell_type": "code",
   "execution_count": 3,
   "metadata": {},
   "outputs": [
    {
     "data": {
      "text/plain": [
       "<IPython.core.display.Javascript object>"
      ]
     },
     "metadata": {},
     "output_type": "display_data"
    }
   ],
   "source": [
    "%%javascript\n",
    "\n",
    "// window.location.reload(true)\n",
    "\n",
    "// Loading the compiled MathBox bundle.\n",
    "require.config({\n",
    "    paths: {\n",
    "        mathBox: '//cdn.rawgit.com/unconed/mathbox/eaeb8e15/build/mathbox-bundle'\n",
    "    }\n",
    "});\n",
    "\n",
    "// Helper function that setups WebGL context and initializes MathBox.\n",
    "window.with_mathbox = function(element, func) {\n",
    "    require(['mathBox'], function(){\n",
    "        var mathbox = mathBox({\n",
    "          plugins: ['core', 'controls', 'cursor', 'mathbox'],\n",
    "          controls: { klass: THREE.OrbitControls },\n",
    "          mathbox: {inspect: false},\n",
    "          element: element[0],\n",
    "          loop: {start: false},\n",
    "            \n",
    "        });\n",
    "        var three = mathbox.three;\n",
    "        three.renderer.setClearColor(new THREE.Color(0xFFFFFF), 1.0);\n",
    "        three.camera.position.set(-1, 1, 2);\n",
    "        three.controls.noKeys = true;\n",
    "        \n",
    "        three.element.style.height = \"400px\";\n",
    "        three.element.style.width = \"100%\";\n",
    "        \n",
    "        function isInViewport(element) {\n",
    "          var rect = element.getBoundingClientRect();\n",
    "          var html = document.documentElement;\n",
    "          var w = window.innerWidth || html.clientWidth;\n",
    "          var h = window.innerHeight || html.clientHeight;\n",
    "          return rect.top < h && rect.left < w && rect.bottom > 0 && rect.right > 0;\n",
    "        }\n",
    "        \n",
    "        // Running update/render loop only for visible plots.\n",
    "        var intervalId = setInterval(function(){\n",
    "            if (three.element.offsetParent === null) {\n",
    "                clearInterval(intervalId);\n",
    "                three.destroy();\n",
    "                return;\n",
    "            }\n",
    "            var visible = isInViewport(three.canvas);\n",
    "            if (three.Loop.running != visible) {\n",
    "                visible? three.Loop.start() : three.Loop.stop();\n",
    "            }\n",
    "        }, 100);\n",
    "\n",
    "        func(mathbox);\n",
    "        \n",
    "        window.dispatchEvent(new Event('resize'));\n",
    "    })\n",
    "}"
   ]
  },
  {
   "cell_type": "code",
   "execution_count": 4,
   "metadata": {},
   "outputs": [
    {
     "data": {
      "text/plain": [
       "<IPython.core.display.Javascript object>"
      ]
     },
     "metadata": {},
     "output_type": "display_data"
    }
   ],
   "source": [
    "%%javascript\n",
    "with_mathbox(element, function(mathbox) {\n",
    "    \n",
    "    var view = mathbox.cartesian({},{rotation:(t)=>[0, t*0.02, 0]})\n",
    "      .grid({axes: [1, 3]})\n",
    "    \n",
    "    view.array({\n",
    "        width: POS0.length,\n",
    "      expr: function (emit, i, time) {\n",
    "            emit(POS0[i][0], POS0[i][1], POS0[i][2]);\n",
    "      },\n",
    "      channels: 3\n",
    "    });\n",
    "        \n",
    "    // Now we can see the data on JS side!\n",
    "    view.point({color:\"#55a\", size: 4});\n",
    "    \n",
    "})"
   ]
  },
  {
   "cell_type": "code",
   "execution_count": 5,
   "metadata": {},
   "outputs": [
    {
     "data": {
      "text/plain": [
       "<IPython.core.display.Javascript object>"
      ]
     },
     "metadata": {},
     "output_type": "display_data"
    }
   ],
   "source": [
    "%%javascript\n",
    "with_mathbox(element, function(mathbox) {\n",
    "    \n",
    "    var view = mathbox.cartesian({},{rotation:(t)=>[0, t*0.02, 0]})\n",
    "      .grid({axes: [1, 3]})\n",
    "    \n",
    "    view.array({\n",
    "        width: POS1.length,\n",
    "      expr: function (emit, i, time) {\n",
    "            emit(POS1[i][0], POS1[i][1], POS1[i][2]);\n",
    "      },\n",
    "      channels: 3\n",
    "    });\n",
    "        \n",
    "    // Now we can see the data on JS side!\n",
    "    view.point({color:\"#55a\", size: 4});\n",
    "    \n",
    "})"
   ]
  },
  {
   "cell_type": "code",
   "execution_count": 6,
   "metadata": {},
   "outputs": [
    {
     "data": {
      "text/plain": [
       "<IPython.core.display.Javascript object>"
      ]
     },
     "metadata": {},
     "output_type": "display_data"
    }
   ],
   "source": [
    "%%javascript\n",
    "with_mathbox(element, function(mathbox) {\n",
    "    \n",
    "    var view = mathbox.cartesian({},{rotation:(t)=>[0, t*0.02, 0]})\n",
    "      .grid({axes: [1, 3]})\n",
    "    \n",
    "    view.array({\n",
    "        width: POS2.length,\n",
    "      expr: function (emit, i, time) {\n",
    "            emit(POS2[i][0], POS2[i][1], POS2[i][2]);\n",
    "      },\n",
    "      channels: 3\n",
    "    });\n",
    "        \n",
    "    // Now we can see the data on JS side!\n",
    "    view.point({color:\"#55a\", size: 4});\n",
    "    \n",
    "})"
   ]
  },
  {
   "cell_type": "code",
   "execution_count": 7,
   "metadata": {
    "collapsed": true
   },
   "outputs": [],
   "source": [
    ""
   ]
  }
 ],
 "metadata": {
  "anaconda-cloud": {},
  "kernelspec": {
   "display_name": "Python [default]",
   "language": "python",
   "name": "python3"
  },
  "language_info": {
   "codemirror_mode": {
    "name": "ipython",
    "version": 3.0
   },
   "file_extension": ".py",
   "mimetype": "text/x-python",
   "name": "python",
   "nbconvert_exporter": "python",
   "pygments_lexer": "ipython3",
   "version": "3.5.3"
  }
 },
 "nbformat": 4,
 "nbformat_minor": 0
}